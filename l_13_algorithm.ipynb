{
 "cells": [
  {
   "cell_type": "markdown",
   "metadata": {
    "collapsed": true,
    "jupyter": {
     "outputs_hidden": true
    }
   },
   "source": [
    "# Алгоритми"
   ]
  },
  {
   "cell_type": "markdown",
   "metadata": {},
   "source": [
    "**Алгоритм** - заздалегідь задане зрозуміле і точний припис можливому виконавцю зробити певну послідовність дій для одержання розв'язання задачі за кінцеве число кроків.\n",
    "\n",
    "Це не математичне, а логічне визначення алгоритму, що дає його змістовно-логічну суть.\n",
    "Поняття алгоритму, трансформоване для обчислювально-прикладних і теоретико-математичних потреб не лише однією з головних понять математики, але, головне, однією з головних понять сучасної науки. Більше того, з настанням інформаційної ери алгоритми стають одним із найважливіших факторів розвитку технологій.\n",
    "\n",
    "Якщо говорити нормальною мовою, **алгоритм – це покрокова інструкція**, де результат минулого кроку суворо визначений і використовується як вхідні дані для наступного кроку."
   ]
  },
  {
   "cell_type": "markdown",
   "metadata": {},
   "source": [
    "Основні властивості алгоритмів такі:\n",
    "\n",
    "1. Реалізованість - виконавець алгоритму повинен \"розуміти\", як його виконувати. Іншими словами, маючи алгоритм та довільний варіант вихідних даних, виконавець повинен знати, як треба діяти для виконання цього алгоритму.\n",
    "\n",
    "2. Дискретність (перервність, роздільність) - алгоритм повинен представляти процес вирішення задачі як послідовне виконання простих (або раніше визначених) кроків (етапів).\n",
    "\n",
    "3. Визначеність - кожне правило алгоритму має бути чітким, однозначним і не залишати місця для свавілля. Завдяки цій властивості виконання алгоритму носить механічний характер і не вимагає ніяких додаткових вказівок або відомостей про вирішувану задачу.\n",
    "\n",
    "4. Результативність (або кінцівка) полягає в тому, що за кінцеве число кроків алгоритм або повинен призводити до вирішення завдання, або після кінцевого числа кроків зупинятися через неможливість отримати рішення з видачею відповідного повідомлення, або необмежено продовжуватися протягом часу, відведеного для виконання алгоритму з видачею проміжних результатів.\n",
    "\n",
    "5. Масовість означає, що алгоритм вирішення завдання розробляється у загальному вигляді, тобто. він повинен бути застосований для деякого класу завдань, що відрізняються лише вихідними даними. При цьому вихідні дані можуть вибиратися з деякої області, яка називається областю прийнятності алгоритму."
   ]
  },
  {
   "cell_type": "markdown",
   "metadata": {},
   "source": [
    "Алгоритм можна уявити у вигляді деяких структур, які складаються з окремих елементів.\n",
    "Логічна структура будь-якого алгоритму може бути представлена комбінацією трьох базових структур:\n",
    "\n",
    "- слідування\n",
    "- розгалуження\n",
    "- Цикл.\n",
    "\n",
    "Характерною особливістю базових структур є наявність у них одного входу та одного виходу."
   ]
  },
  {
   "cell_type": "markdown",
   "metadata": {},
   "source": [
    "### Оцінка складності алгоритмів"
   ]
  },
  {
   "cell_type": "markdown",
   "metadata": {},
   "source": [
    "Складність алгоритмів зазвичай оцінюють за часом виконання або використовуваної пам'яті. В обох випадках складність залежить від розмірів вхідних даних - ***масив із 100 елементів буде оброблений швидше, ніж аналогічний із 1000.***\n",
    "\n",
    "При цьому точний час мало кого цікавить: він залежить від процесора, типу даних, мови програмування та багатьох інших параметрів. Важлива лише асимптотична складність, тобто складність при прагненні розміру вхідних даних до нескінченності.\n",
    "\n",
    "Припустимо, деякому алгоритму потрібно виконати 4n 3 + 7n умовних операцій, щоб обробити n елементів вхідних даних. При збільшенні **n**, на підсумковий час роботи буде значно більше впливати зведення n в куб**, ніж множення його на 4 або додаток 7n. Тоді стверджують, що тимчасова складність цього алгоритму дорівнює **О(n3 )**, тобто. залежить від розміру вхідних даних кубічно.\n",
    "\n",
    "Використання великої літери **О** (або так звана **О-нотація**) прийшло з математики, де її застосовують для порівняння асимптотичної поведінки функцій.\n",
    "\n",
    "Формально **O(f(n))** означає, що час роботи алгоритму (або обсяг займаної пам'яті) зростає залежно від обсягу вхідних даних не швидше ніж деяка константа, помножена на f(n)."
   ]
  },
  {
   "cell_type": "markdown",
   "metadata": {},
   "source": [
    "**O(n)** — лінійна складність Такою складністю володіє, наприклад, алгоритм пошуку найбільшого елемента в не\n",
    "відсортований масив. Нам доведеться пройтися всіма n елементами масиву, щоб зрозуміти, який з них максимальний.\n",
    "\n",
    "**O(log n)** — логарифмічна складність Найпростіший приклад — бінарний пошук. Якщо масив відсортований, ми можемо\n",
    "перевірити, чи є у ньому якесь конкретне значення, шляхом розподілу навпіл. Перевіримо середній елемент, якщо він більше за шуканий, то відкинемо другу половину масиву — там його точно немає. Якщо ж менше, то, навпаки, відкинемо початкову половину. І так продовжуватимемо ділити навпіл, у результаті перевіримо log n елементів.\n",
    "\n",
    "**O(n2)** — квадратична складність. Таку складність має, наприклад, алгоритм сортування вставками. У канонічній\n",
    "реалізації він представляє собою два вкладені цикли: один, щоб проходити по\n",
    "всьому масиву, а другий, щоб знаходити місце черговому елементу вже відсортованої частини. Таким чином, кількість операцій залежатиме від розміру масиву як n*n, тобто n2.\n",
    "\n",
    "Також трапляється, що час роботи алгоритму взагалі не залежить від розміру вхідних даних. Тоді складність позначають як **O(1)**"
   ]
  },
  {
   "cell_type": "markdown",
   "metadata": {},
   "source": [
    "Графіки:\n",
    "https://media.springernature.com/original/springer-static/image/chp%3A10.1007%2F978-1-4842-3988-9_1/MediaObjects/465726_1_En_1_Fig1_HTML.jpg\n",
    "\n",
    "Таблиця\n",
    "https://tproger.ru/articles/computational-complexity-explained/\n"
   ]
  },
  {
   "cell_type": "markdown",
   "metadata": {},
   "source": [
    "### Алгоритм сортування бульбашкою"
   ]
  },
  {
   "cell_type": "markdown",
   "metadata": {},
   "source": [
    "Сортування бульбашкою (обмінне сортування) – простий у реалізації алгоритм сортування, але у чистому вигляді практично використовується дуже рідко. Цей метод сортування лежить в основі деяких досконаліших алгоритмів, таких як шейкерне сортування, пірамідальне сортування та швидке сортування.\n",
    "\n",
    "Суть алгоритму - сусідні елементи послідовності порівнюються між собою і, у разі потреби, змінюються місцями.\n",
    "https://hsto.org/getpro/habr/post_images/187/5a3/929/1875a3929dd14c8ea5ff4ccc3d0db9bd.gif\n"
   ]
  },
  {
   "cell_type": "code",
   "execution_count": null,
   "metadata": {},
   "outputs": [],
   "source": [
    "def bubble_sort(lst: list) -> list:\n",
    "    \"\"\"сортування бульбашкою - не найкраще рішення\n",
    "    \"\"\"\n",
    "    size = len(lst)\n",
    "    for i in range(size):\n",
    "        for j in range(size - 1):\n",
    "            if lst[j] > lst[j + 1]:\n",
    "                lst[j], lst[j + 1] = lst[j + 1], lst[j]\n",
    "    return lst\n"
   ]
  },
  {
   "cell_type": "code",
   "execution_count": null,
   "metadata": {
    "scrolled": true
   },
   "outputs": [],
   "source": [
    "# Зробимо виміри часу роботи\n",
    "import random\n",
    "import time\n",
    "my_list = [random.randint(0, 100) for i in range(100)]\n",
    "start = time.time()\n",
    "bubble_sort(my_list)\n",
    "print(time.time() - start)"
   ]
  },
  {
   "cell_type": "code",
   "execution_count": null,
   "metadata": {
    "scrolled": true
   },
   "outputs": [],
   "source": [
    "#При збільшенні розміру в 10 разів, час роботи збільшився в 100\n",
    "my_list = [random.randint(0, 100) for i in range(1000)]\n",
    "start = time.time()\n",
    "bubble_sort(my_list)\n",
    "print(time.time() - start)\n",
    "#Асимптотична складність n у квадраті: 10 * 10 = 100"
   ]
  },
  {
   "cell_type": "code",
   "execution_count": null,
   "metadata": {},
   "outputs": [],
   "source": [
    "def bubble_sort_1(lst: list) -> list:\n",
    "    \"\"\"сортування бульбашкою - зменшення дій\n",
    "     при необов'язкових порівняннях\n",
    "    \"\"\"\n",
    "    size = len(lst)\n",
    "    for i in range(size):\n",
    "        for j in range(size - 1 - i):\n",
    "            if lst[j] > lst[j + 1]:\n",
    "                lst[j], lst[j + 1] = lst[j + 1], lst[j]\n",
    "    return lst"
   ]
  },
  {
   "cell_type": "code",
   "execution_count": null,
   "metadata": {},
   "outputs": [],
   "source": [
    "#Перший варіант реалізації - ті ж показники\n",
    "my_list = [random.randint(0, 100) for i in range(1000)]\n",
    "lst1 = my_list[:]\n",
    "start = time.time()\n",
    "bubble_sort(my_list)\n",
    "print(time.time() - start)\n"
   ]
  },
  {
   "cell_type": "code",
   "execution_count": null,
   "metadata": {},
   "outputs": [],
   "source": [
    "# Покращений варіант реалізації - результат трохи кращий. Але не принципово\n",
    "start = time.time()\n",
    "bubble_sort_1(lst1)\n",
    "print(time.time() - start)"
   ]
  },
  {
   "cell_type": "code",
   "execution_count": null,
   "metadata": {},
   "outputs": [],
   "source": [
    "def bubble_sort_2(lst: list) -> list:\n",
    "    \"\"\"сортування бульбашкою - зменшення дій\n",
    "     якщо масив вже відсортовано\n",
    "    \"\"\"\n",
    "    size = len(lst)\n",
    "    for i in range(size):\n",
    "        swap = False # введемо додатковий параметр\n",
    "        for j in range(size - 1 - i):\n",
    "            if lst[j] > lst[j + 1]:\n",
    "                lst[j], lst[j + 1] = lst[j + 1], lst[j]\n",
    "                swap = True # Якщо була хоча б одна перестановка, значення зміниться на протилежне\n",
    "        if not swap:\n",
    "            break # якщо перестановок не було, вихід із циклу\n",
    "    return lst"
   ]
  },
  {
   "cell_type": "code",
   "execution_count": null,
   "metadata": {},
   "outputs": [],
   "source": [
    "# 3 однакові копії\n",
    "my_list = [random.randint(0, 100) for i in range(1000)]\n",
    "lst1 = my_list[:]\n",
    "lst2 = my_list[:]\n"
   ]
  },
  {
   "cell_type": "markdown",
   "metadata": {},
   "source": [
    "##### Усі 3 реалізації покажуть порівнянний час роботи"
   ]
  },
  {
   "cell_type": "code",
   "execution_count": null,
   "metadata": {},
   "outputs": [],
   "source": [
    "start = time.time()\n",
    "bubble_sort(my_list)\n",
    "print(time.time() - start)"
   ]
  },
  {
   "cell_type": "code",
   "execution_count": null,
   "metadata": {
    "scrolled": true
   },
   "outputs": [],
   "source": [
    "start = time.time()\n",
    "bubble_sort_1(lst1)\n",
    "print(time.time() - start)"
   ]
  },
  {
   "cell_type": "code",
   "execution_count": null,
   "metadata": {},
   "outputs": [],
   "source": [
    "start = time.time()\n",
    "bubble_sort_2(lst2)\n",
    "print(time.time() - start)"
   ]
  },
  {
   "cell_type": "markdown",
   "metadata": {},
   "source": [
    "##### Але якщо дані будуть відсортовані, то реалізація з додатковим параметром буде кардинально швидше"
   ]
  },
  {
   "cell_type": "code",
   "execution_count": null,
   "metadata": {},
   "outputs": [],
   "source": [
    "# Відсортовані дані\n",
    "start = time.time()\n",
    "bubble_sort_2(lst2)\n",
    "print(time.time() - start)"
   ]
  },
  {
   "cell_type": "code",
   "execution_count": null,
   "metadata": {},
   "outputs": [],
   "source": [
    "# Відсортовані дані\n",
    "start = time.time()\n",
    "bubble_sort_1(lst1)\n",
    "print(time.time() - start)"
   ]
  },
  {
   "cell_type": "markdown",
   "metadata": {},
   "source": [
    "##### Але якщо дані відсортовані у зворотному напрямку, то час роботи буде схожим з іншими реалізаціями"
   ]
  },
  {
   "cell_type": "code",
   "execution_count": null,
   "metadata": {},
   "outputs": [],
   "source": [
    "lst3 = list(reversed(lst2))\n",
    "start = time.time()\n",
    "bubble_sort_2(lst3)\n",
    "print(time.time() - start)"
   ]
  },
  {
   "cell_type": "markdown",
   "metadata": {},
   "source": [
    "#### Тобто, при оцінці складності алгоритму, прийнято говорити про найкращий варіант, середній і найгірший варіант.\n",
    "Для реалізації алгоритму сортування бульбашкою в функції bubble_sort_2 – найкращий варіант це **O(n)**, найгірший варіант – **O(n2)**. Середній, те саме, що й найгірший"
   ]
  },
  {
   "cell_type": "markdown",
   "metadata": {},
   "source": [
    "У Python для сортування списків використовується алгоритм сортування - Timsort."
   ]
  },
  {
   "cell_type": "markdown",
   "metadata": {},
   "source": [
    "Види сортувань: https://neerc.ifmo.ru/wiki/index.php?title=%D0%A1%D0%BE%D1%80%D1%82%D0%B8%D1%80%D0%BE%D0%B2%D0%BA%D0%B8\n",
    "\n",
    "Візуалізація алгоритмів сортування: https://www.youtube.com/watch?v=Gnp8G1_kO3I"
   ]
  },
  {
   "cell_type": "markdown",
   "metadata": {},
   "source": [
    "### Алгоритм лінійного пошуку\n",
    "Суть алгоритму полягає в тому, щоб перебрати масив та повернути індекс першого входження елемента, коли він знайдений"
   ]
  },
  {
   "cell_type": "code",
   "execution_count": null,
   "metadata": {},
   "outputs": [],
   "source": [
    "from typing import Union, List\n",
    "\n",
    "def linear_search(lst: List, element: Union[int, float]) -> int:\n",
    "    \"\"\"  Лінійний пошук  O(n)  \"\"\"\n",
    "    for i in range(len(lst)):\n",
    "        if lst[i] == element:\n",
    "            return i\n",
    "    return -1"
   ]
  },
  {
   "cell_type": "code",
   "execution_count": null,
   "metadata": {},
   "outputs": [],
   "source": [
    "# Пошук існуючого елемента у списку\n",
    "print(linear_search([1, 2, 3, 4, 5, 2, 1], 2))"
   ]
  },
  {
   "cell_type": "code",
   "execution_count": null,
   "metadata": {},
   "outputs": [],
   "source": [
    "# Пошук елемента, якого немає у списку\n",
    "print(linear_search([1, 2, 3, 4, 5, 2, 1], 22))"
   ]
  },
  {
   "cell_type": "markdown",
   "metadata": {},
   "source": [
    "### Бінарний пошук\n",
    "\n",
    "Бінарний пошук працює за принципом «розділяй і володарюй». Він швидший, ніж лінійний пошук, але вимагає, щоб масив був відсортований перед виконанням алгоритму.\n",
    "\n",
    "Припускаючи, що ми шукаємо значення val у відсортованому масиві, алгоритм порівнює val зі значенням середнього елемента масиву, який ми називатимемо mid.\n",
    "\n",
    "Якщо mid це той елемент, який ми шукаємо (у кращому випадку), ми повертаємо його індекс.\n",
    "\n",
    "Якщо ні, ми визначаємо, в якій половині масиву ми шукатимемо val далі, ґрунтуючись на тому, менше або більше значення val значення mid, і відкидаємо другу половину масиву.\n",
    "\n",
    "Потім ми виконуємо самі кроки, вибираючи нове значення для mid, порівнюючи його з val і відкидаючи половину масиву кожної ітерації алгоритму."
   ]
  },
  {
   "cell_type": "code",
   "execution_count": null,
   "metadata": {},
   "outputs": [],
   "source": [
    "\n",
    "def binary_search(lst: List, val: Union[int, float]):\n",
    "    \"\"\"    Бінарний пошук   O(log n)  \"\"\"\n",
    "    first = 0\n",
    "    last = len(lst)-1\n",
    "    index = -1\n",
    "    while (first <= last) and (index == -1): # Поки є умови для пошуку\n",
    "        mid = (first + last) // 2\n",
    "        if lst[mid] == val: # Якщо знайшли потрібний елемент\n",
    "            index = mid\n",
    "        else:\n",
    "            # Визначаємо в якій частині потрібно шукати\n",
    "            if val < lst[mid]: \n",
    "                last = mid - 1\n",
    "            else:\n",
    "                first = mid + 1\n",
    "    return index"
   ]
  },
  {
   "cell_type": "markdown",
   "metadata": {},
   "source": [
    "#### Проведемо порівняння часу виконання для різних алгоритмів"
   ]
  },
  {
   "cell_type": "code",
   "execution_count": null,
   "metadata": {},
   "outputs": [],
   "source": [
    "my_list = [random.randint(0, 20000) for i in range(10000)]\n",
    "lst1 = my_list[:]\n",
    "my_list.sort()\n",
    "start = time.time()\n",
    "res = binary_search(my_list, 10000)\n",
    "print(time.time() - start)"
   ]
  },
  {
   "cell_type": "markdown",
   "metadata": {},
   "source": [
    "##### Подивимось на результати лінійного пошуку для відсортованого та невідсортованого списків"
   ]
  },
  {
   "cell_type": "code",
   "execution_count": null,
   "metadata": {},
   "outputs": [],
   "source": [
    "start = time.time()\n",
    "res = linear_search(my_list, 10000) #відсортований список\n",
    "print(time.time() - start)"
   ]
  },
  {
   "cell_type": "code",
   "execution_count": null,
   "metadata": {},
   "outputs": [],
   "source": [
    "# невідсортований список\n",
    "start = time.time()\n",
    "res = linear_search(lst1, 15000) # Для невідсортованого списку результат дуже залежить від випадковості.\n",
    "print(time.time() - start)"
   ]
  },
  {
   "cell_type": "markdown",
   "metadata": {},
   "source": [
    "##### Пошук відсутнього елемента"
   ]
  },
  {
   "cell_type": "code",
   "execution_count": null,
   "metadata": {},
   "outputs": [],
   "source": [
    "# При лінійному пошуку, потрібно пройтися всіма елементами списку від початку і до кінця.\n",
    "start = time.time()\n",
    "res = linear_search(my_list, 25000) \n",
    "print(time.time() - start)"
   ]
  },
  {
   "cell_type": "code",
   "execution_count": null,
   "metadata": {},
   "outputs": [],
   "source": [
    "# Час пошуку відсутнього елемента для бінарного пошуку, не сильно відрізняється від часу пошуку елемента, який є у списку\n",
    "start = time.time()\n",
    "res = binary_search(my_list, 25000) \n",
    "print(time.time() - start)"
   ]
  },
  {
   "cell_type": "markdown",
   "metadata": {},
   "source": [
    "Рекомендую дуже хороший курс з алгоритмів на платформі Прометеус\n",
    "https://edx.prometheus.org.ua/courses/KPI/Algorithms101/2015_Spring/about\n"
   ]
  }
 ],
 "metadata": {
  "kernelspec": {
   "display_name": "Python 3 (ipykernel)",
   "language": "python",
   "name": "python3"
  },
  "language_info": {
   "codemirror_mode": {
    "name": "ipython",
    "version": 3
   },
   "file_extension": ".py",
   "mimetype": "text/x-python",
   "name": "python",
   "nbconvert_exporter": "python",
   "pygments_lexer": "ipython3",
   "version": "3.12.1"
  }
 },
 "nbformat": 4,
 "nbformat_minor": 4
}
